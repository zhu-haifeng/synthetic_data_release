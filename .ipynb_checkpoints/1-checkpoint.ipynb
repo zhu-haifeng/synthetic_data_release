{
 "cells": [
  {
   "cell_type": "code",
   "execution_count": 1,
   "id": "c19cf11a",
   "metadata": {},
   "outputs": [
    {
     "ename": "NameError",
     "evalue": "name '__file__' is not defined",
     "output_type": "error",
     "traceback": [
      "\u001b[0;31m---------------------------------------------------------------------------\u001b[0m",
      "\u001b[0;31mNameError\u001b[0m                                 Traceback (most recent call last)",
      "Input \u001b[0;32mIn [1]\u001b[0m, in \u001b[0;36m<cell line: 5>\u001b[0;34m()\u001b[0m\n\u001b[1;32m      2\u001b[0m \u001b[38;5;28;01mfrom\u001b[39;00m \u001b[38;5;21;01mos\u001b[39;00m \u001b[38;5;28;01mimport\u001b[39;00m mkdir, path\n\u001b[1;32m      4\u001b[0m SEED \u001b[38;5;241m=\u001b[39m \u001b[38;5;241m42\u001b[39m\n\u001b[0;32m----> 5\u001b[0m cwd \u001b[38;5;241m=\u001b[39m path\u001b[38;5;241m.\u001b[39mdirname(\u001b[38;5;18;43m__file__\u001b[39;49m)\n\u001b[1;32m      6\u001b[0m datapath \u001b[38;5;241m=\u001b[39m \u001b[38;5;124m'\u001b[39m\u001b[38;5;124mdata/texas\u001b[39m\u001b[38;5;124m'\u001b[39m\n\u001b[1;32m      7\u001b[0m rawPop, metadata \u001b[38;5;241m=\u001b[39m load_local_data_as_df(path\u001b[38;5;241m.\u001b[39mjoin(cwd, datapath))\n",
      "\u001b[0;31mNameError\u001b[0m: name '__file__' is not defined"
     ]
    }
   ],
   "source": [
    "\n",
    "from utils.datagen import load_local_data_as_df\n",
    "from os import mkdir, path\n",
    "\n",
    "SEED = 42\n",
    "cwd = './'\n",
    "datapath = 'data/texas'\n",
    "rawPop, metadata = load_local_data_as_df(path.join(cwd, datapath))"
   ]
  },
  {
   "cell_type": "code",
   "execution_count": null,
   "id": "94afbbd3",
   "metadata": {},
   "outputs": [],
   "source": []
  }
 ],
 "metadata": {
  "kernelspec": {
   "display_name": "Python 3 (ipykernel)",
   "language": "python",
   "name": "python3"
  },
  "language_info": {
   "codemirror_mode": {
    "name": "ipython",
    "version": 3
   },
   "file_extension": ".py",
   "mimetype": "text/x-python",
   "name": "python",
   "nbconvert_exporter": "python",
   "pygments_lexer": "ipython3",
   "version": "3.8.10"
  }
 },
 "nbformat": 4,
 "nbformat_minor": 5
}
